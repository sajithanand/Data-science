{
 "cells": [
  {
   "cell_type": "code",
   "execution_count": 2,
   "id": "36877715",
   "metadata": {},
   "outputs": [
    {
     "name": "stdout",
     "output_type": "stream",
     "text": [
      "decomposed arrays:\n",
      "\n",
      "[[-0.30491383 -0.39796963 -0.86524432]\n",
      " [-0.62566615 -0.60125012  0.49703135]\n",
      " [-0.71803163  0.69290582 -0.06566665]]\n",
      "\n",
      "\n",
      " [15.65784686  6.22391082  0.30784057]\n",
      "\n",
      "\n",
      " [[-0.60560124 -0.71089104 -0.35760462]\n",
      " [ 0.27973677  0.2305211  -0.93199108]\n",
      " [ 0.74497952 -0.66445011  0.0592585 ]]\n",
      "Reconstructed array:\n",
      "\n",
      "\n",
      "\n",
      " [[1 2 3]\n",
      " [4 5 6]\n",
      " [7 8 0]]\n"
     ]
    }
   ],
   "source": [
    "#svd\n",
    "\n",
    "import numpy as np\n",
    "from scipy.linalg import svd\n",
    "\n",
    "array1=np.array([2,3,4,5,6,7,8,9,0]).reshape(3,3)\n",
    "a,b,c=svd(array1)\n",
    "print(\"decomposed arrays:\\n\")\n",
    "print(a)\n",
    "print(\"\\n\\n\",b)\n",
    "print(\"\\n\\n\",c)\n",
    "\n",
    "print(\"Reconstructed array:\\n\")\n",
    "\n",
    "e=(a @ np.diag(b) @ c)\n",
    "new_array=e.astype('i')\n",
    "print(\"\\n\\n\",new_array)"
   ]
  },
  {
   "cell_type": "code",
   "execution_count": null,
   "id": "cd9d8a01",
   "metadata": {},
   "outputs": [],
   "source": []
  }
 ],
 "metadata": {
  "kernelspec": {
   "display_name": "Python 3",
   "language": "python",
   "name": "python3"
  },
  "language_info": {
   "codemirror_mode": {
    "name": "ipython",
    "version": 3
   },
   "file_extension": ".py",
   "mimetype": "text/x-python",
   "name": "python",
   "nbconvert_exporter": "python",
   "pygments_lexer": "ipython3",
   "version": "3.6.3"
  }
 },
 "nbformat": 4,
 "nbformat_minor": 5
}
