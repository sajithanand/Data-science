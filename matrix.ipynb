{
 "cells": [
  {
   "cell_type": "code",
   "execution_count": 4,
   "id": "637f3ee3",
   "metadata": {},
   "outputs": [
    {
     "name": "stdout",
     "output_type": "stream",
     "text": [
      "matrix 1: \n",
      " [[1 2 3]\n",
      " [4 5 6]\n",
      " [7 8 9]]\n",
      "matrix 2: \n",
      " [[10 11 12]\n",
      " [13 14 15]\n",
      " [16 17 18]]\n",
      "Dot product:\n",
      "\n",
      " [[ 84  90  96]\n",
      " [201 216 231]\n",
      " [318 342 366]]\n",
      "\n",
      " transpose matrix is :\n",
      "\n",
      " [[ 84 201 318]\n",
      " [ 90 216 342]\n",
      " [ 96 231 366]]\n"
     ]
    }
   ],
   "source": [
    "#program for matrix multiplication\n",
    "\n",
    "import numpy as np\n",
    "array1=np.array([1,2,3,4,5,6,7,8,9]).reshape(3,3)\n",
    "print(\"matrix 1: \\n\",array1)\n",
    "\n",
    "array2=np.array([10,11,12,13,14,15,16,17,18]).reshape(3,3)\n",
    "print(\"matrix 2: \\n\",array2)\n",
    "\n",
    "mul=np.dot(array1,array2)\n",
    "print(\"Dot product:\\n\\n\",mul)\n",
    "\n",
    "transpose=mul.transpose()\n",
    "print(\"\\n transpose matrix is :\\n\\n\",transpose)\n"
   ]
  },
  {
   "cell_type": "code",
   "execution_count": null,
   "id": "42062687",
   "metadata": {},
   "outputs": [],
   "source": []
  }
 ],
 "metadata": {
  "kernelspec": {
   "display_name": "Python 3",
   "language": "python",
   "name": "python3"
  },
  "language_info": {
   "codemirror_mode": {
    "name": "ipython",
    "version": 3
   },
   "file_extension": ".py",
   "mimetype": "text/x-python",
   "name": "python",
   "nbconvert_exporter": "python",
   "pygments_lexer": "ipython3",
   "version": "3.6.3"
  }
 },
 "nbformat": 4,
 "nbformat_minor": 5
}
