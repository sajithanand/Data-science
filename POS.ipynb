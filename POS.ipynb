{
 "cells": [
  {
   "cell_type": "code",
   "execution_count": 3,
   "id": "5049f42b",
   "metadata": {},
   "outputs": [
    {
     "name": "stdout",
     "output_type": "stream",
     "text": [
      "[('Hello', 'NNP'), ('.', '.')]\n",
      "[('My', 'PRP$'), ('name', 'NN'), ('Anand', 'NNP'), ('im', 'NN'), ('studying', 'VBG'), ('KMCT.Im', 'NNP'), ('3rd', 'CD'), ('yera', 'NN'), ('MCA', 'NNP'), ('student.One', 'NN'), ('core', 'NN'), ('paper', 'NN'), ('datascience', 'NN'), ('1st', 'CD'), ('data', 'NNS'), ('science', 'NN'), ('new', 'JJ'), ('paper', 'NN'), ('.', '.')]\n",
      "\n",
      "After Regex: chunk.RegexpParser with 1 stages:\n",
      "RegexpChunkParser with 1 rules:\n",
      "       <ChunkRule: '<NN?> * <VBD.?>'> \n",
      "\n",
      "After Chunking (S\n",
      "  My/PRP$\n",
      "  name/NN\n",
      "  Anand/NNP\n",
      "  im/NN\n",
      "  studying/VBG\n",
      "  KMCT.Im/NNP\n",
      "  3rd/CD\n",
      "  yera/NN\n",
      "  MCA/NNP\n",
      "  student.One/NN\n",
      "  core/NN\n",
      "  paper/NN\n",
      "  datascience/NN\n",
      "  1st/CD\n",
      "  data/NNS\n",
      "  science/NN\n",
      "  new/JJ\n",
      "  paper/NN\n",
      "  ./.)\n"
     ]
    },
    {
     "name": "stderr",
     "output_type": "stream",
     "text": [
      "[nltk_data] Downloading package stopwords to\n",
      "[nltk_data]     C:\\Users\\Anirudh\\AppData\\Roaming\\nltk_data...\n",
      "[nltk_data]   Package stopwords is already up-to-date!\n",
      "[nltk_data] Downloading package punkt to\n",
      "[nltk_data]     C:\\Users\\Anirudh\\AppData\\Roaming\\nltk_data...\n",
      "[nltk_data]   Package punkt is already up-to-date!\n",
      "[nltk_data] Downloading package averaged_perceptron_tagger to\n",
      "[nltk_data]     C:\\Users\\Anirudh\\AppData\\Roaming\\nltk_data...\n",
      "[nltk_data]   Package averaged_perceptron_tagger is already up-to-\n",
      "[nltk_data]       date!\n"
     ]
    }
   ],
   "source": [
    "#Part Of Speech Tagging\n",
    "import nltk\n",
    "from nltk.corpus import stopwords\n",
    "from nltk.tokenize import word_tokenize, sent_tokenize\n",
    "nltk.download('stopwords')\n",
    "nltk.download('punkt')\n",
    "nltk.download('averaged_perceptron_tagger')\n",
    "\n",
    "stop_words = set(stopwords.words('english'))\n",
    "  \n",
    "#Dummy text\n",
    "txt = \"Hello. My name is Anand s and im studying in KMCT.Im a 3rd yera MCA student.One of our core paper in datascience \"\\\n",
    "\"1st of all the data science is a new paper.\"\n",
    "  \n",
    "# sent_tokenize is one of instances of \n",
    "# PunktSentenceTokenizer from the nltk.tokenize.punkt module\n",
    "  \n",
    "tokenized = sent_tokenize(txt)\n",
    "for i in tokenized:\n",
    "      \n",
    "    # Word tokenizers is used to find the words \n",
    "    # and punctuation in a string\n",
    "    wordsList = nltk.word_tokenize(i)\n",
    "  \n",
    "    # removing stop words from wordList\n",
    "    wordsList = [w for w in wordsList if not w in stop_words] \n",
    "  \n",
    "    #  Using a Tagger. Which is part-of-speech \n",
    "    # tagger or POS-tagger. \n",
    "    tagged = nltk.pos_tag(wordsList)\n",
    "  \n",
    "    print(tagged)\n",
    "    \n",
    "\n",
    "#chuncking    \n",
    "from nltk import pos_tag\n",
    "from nltk import RegexpParser\n",
    "patterns= \"\"\"mychunk:{<NN?> * <VBD.?>}\"\"\"\n",
    "chunker = RegexpParser(patterns)\n",
    "print(\"\\nAfter Regex:\",chunker,\"\\n\")\n",
    "output = chunker.parse(tagged)\n",
    "print(\"After Chunking\",output)"
   ]
  },
  {
   "cell_type": "code",
   "execution_count": null,
   "id": "981b6a41",
   "metadata": {},
   "outputs": [],
   "source": []
  },
  {
   "cell_type": "code",
   "execution_count": null,
   "id": "5934552f",
   "metadata": {},
   "outputs": [],
   "source": []
  }
 ],
 "metadata": {
  "kernelspec": {
   "display_name": "Python 3 (ipykernel)",
   "language": "python",
   "name": "python3"
  },
  "language_info": {
   "codemirror_mode": {
    "name": "ipython",
    "version": 3
   },
   "file_extension": ".py",
   "mimetype": "text/x-python",
   "name": "python",
   "nbconvert_exporter": "python",
   "pygments_lexer": "ipython3",
   "version": "3.9.7"
  }
 },
 "nbformat": 4,
 "nbformat_minor": 5
}
